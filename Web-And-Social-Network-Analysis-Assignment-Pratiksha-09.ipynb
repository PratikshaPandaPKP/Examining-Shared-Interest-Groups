{
 "cells": [
  {
   "cell_type": "markdown",
   "metadata": {},
   "source": [
    "# Web & Social Network Analysis Assignment\n",
    "\n",
    "\n",
    "#### Identifying Communities of Interest: Analyze a social network dataset (e.g., online forum discussions, social media groups) to identify communities with shared interests or opinions. \n",
    "#### Explore the characteristics and potential applications of these communities."
   ]
  },
  {
   "cell_type": "markdown",
   "metadata": {},
   "source": [
    "#### Link of the dataset:-\n",
    "https://www.kaggle.com/datasets/kazanova/sentiment140"
   ]
  },
  {
   "cell_type": "code",
   "execution_count": 1,
   "metadata": {
    "execution": {
     "iopub.execute_input": "2023-04-03T08:06:57.322357Z",
     "iopub.status.busy": "2023-04-03T08:06:57.321911Z",
     "iopub.status.idle": "2023-04-03T08:06:59.980710Z",
     "shell.execute_reply": "2023-04-03T08:06:59.979609Z",
     "shell.execute_reply.started": "2023-04-03T08:06:57.322267Z"
    },
    "id": "-E4TvIVLMa73",
    "scrolled": true
   },
   "outputs": [],
   "source": [
    "#Importing Python Libraries\n",
    "import numpy as np \n",
    "import pandas as pd \n",
    "import seaborn as sns \n",
    "import matplotlib.pyplot as plt\n",
    "plt.style.use('ggplot')\n",
    "from sklearn.metrics import roc_curve, auc\n",
    "from sklearn.metrics import classification_report, confusion_matrix\n",
    "import nltk\n",
    "from nltk.corpus import stopwords\n",
    "from nltk.stem import PorterStemmer \n",
    "from sklearn.model_selection import train_test_split\n",
    "from mlxtend.plotting import plot_confusion_matrix\n",
    "import matplotlib.cm as cm\n",
    "from matplotlib import rcParams\n",
    "from collections import Counter\n",
    "from nltk.tokenize import RegexpTokenizer\n",
    "import re\n",
    "import string\n",
    "from tensorflow.keras.layers import LSTM, Activation, Dense, Dropout, Input, Embedding\n",
    "from tensorflow.keras.models import Model\n",
    "from tensorflow.keras.optimizers import RMSprop\n",
    "from tensorflow.keras.preprocessing.text import Tokenizer\n",
    "from tensorflow.keras.preprocessing import sequence\n",
    "%matplotlib inline\n",
    "\n",
    "import warnings\n",
    "warnings.filterwarnings(\"ignore\")"
   ]
  },
  {
   "cell_type": "code",
   "execution_count": 2,
   "metadata": {
    "execution": {
     "iopub.execute_input": "2023-04-03T08:06:59.983639Z",
     "iopub.status.busy": "2023-04-03T08:06:59.983151Z",
     "iopub.status.idle": "2023-04-03T08:07:13.738350Z",
     "shell.execute_reply": "2023-04-03T08:07:13.737330Z",
     "shell.execute_reply.started": "2023-04-03T08:06:59.983591Z"
    }
   },
   "outputs": [],
   "source": [
    "#Loading the data\n",
    "data = pd.read_csv(\"/kaggle/input/sentiment140/training.1600000.processed.noemoticon.csv\", encoding = \"ISO-8859-1\", engine=\"python\")\n",
    "data.columns = [\"label\", \"time\", \"date\", \"query\", \"username\", \"text\"]"
   ]
  },
  {
   "cell_type": "markdown",
   "metadata": {
    "papermill": {
     "duration": 0.065466,
     "end_time": "2020-11-30T07:38:51.578836",
     "exception": false,
     "start_time": "2020-11-30T07:38:51.513370",
     "status": "completed"
    },
    "tags": []
   },
   "source": [
    "### Exploratory data analysis"
   ]
  },
  {
   "cell_type": "code",
   "execution_count": 3,
   "metadata": {
    "execution": {
     "iopub.execute_input": "2023-04-03T08:07:13.740591Z",
     "iopub.status.busy": "2023-04-03T08:07:13.740119Z",
     "iopub.status.idle": "2023-04-03T08:07:13.762702Z",
     "shell.execute_reply": "2023-04-03T08:07:13.761647Z",
     "shell.execute_reply.started": "2023-04-03T08:07:13.740542Z"
    }
   },
   "outputs": [
    {
     "data": {
      "text/html": [
       "<div>\n",
       "<style scoped>\n",
       "    .dataframe tbody tr th:only-of-type {\n",
       "        vertical-align: middle;\n",
       "    }\n",
       "\n",
       "    .dataframe tbody tr th {\n",
       "        vertical-align: top;\n",
       "    }\n",
       "\n",
       "    .dataframe thead th {\n",
       "        text-align: right;\n",
       "    }\n",
       "</style>\n",
       "<table border=\"1\" class=\"dataframe\">\n",
       "  <thead>\n",
       "    <tr style=\"text-align: right;\">\n",
       "      <th></th>\n",
       "      <th>label</th>\n",
       "      <th>time</th>\n",
       "      <th>date</th>\n",
       "      <th>query</th>\n",
       "      <th>username</th>\n",
       "      <th>text</th>\n",
       "    </tr>\n",
       "  </thead>\n",
       "  <tbody>\n",
       "    <tr>\n",
       "      <th>0</th>\n",
       "      <td>0</td>\n",
       "      <td>1467810672</td>\n",
       "      <td>Mon Apr 06 22:19:49 PDT 2009</td>\n",
       "      <td>NO_QUERY</td>\n",
       "      <td>scotthamilton</td>\n",
       "      <td>is upset that he can't update his Facebook by ...</td>\n",
       "    </tr>\n",
       "    <tr>\n",
       "      <th>1</th>\n",
       "      <td>0</td>\n",
       "      <td>1467810917</td>\n",
       "      <td>Mon Apr 06 22:19:53 PDT 2009</td>\n",
       "      <td>NO_QUERY</td>\n",
       "      <td>mattycus</td>\n",
       "      <td>@Kenichan I dived many times for the ball. Man...</td>\n",
       "    </tr>\n",
       "    <tr>\n",
       "      <th>2</th>\n",
       "      <td>0</td>\n",
       "      <td>1467811184</td>\n",
       "      <td>Mon Apr 06 22:19:57 PDT 2009</td>\n",
       "      <td>NO_QUERY</td>\n",
       "      <td>ElleCTF</td>\n",
       "      <td>my whole body feels itchy and like its on fire</td>\n",
       "    </tr>\n",
       "    <tr>\n",
       "      <th>3</th>\n",
       "      <td>0</td>\n",
       "      <td>1467811193</td>\n",
       "      <td>Mon Apr 06 22:19:57 PDT 2009</td>\n",
       "      <td>NO_QUERY</td>\n",
       "      <td>Karoli</td>\n",
       "      <td>@nationwideclass no, it's not behaving at all....</td>\n",
       "    </tr>\n",
       "    <tr>\n",
       "      <th>4</th>\n",
       "      <td>0</td>\n",
       "      <td>1467811372</td>\n",
       "      <td>Mon Apr 06 22:20:00 PDT 2009</td>\n",
       "      <td>NO_QUERY</td>\n",
       "      <td>joy_wolf</td>\n",
       "      <td>@Kwesidei not the whole crew</td>\n",
       "    </tr>\n",
       "  </tbody>\n",
       "</table>\n",
       "</div>"
      ],
      "text/plain": [
       "   label        time                          date     query       username  \\\n",
       "0      0  1467810672  Mon Apr 06 22:19:49 PDT 2009  NO_QUERY  scotthamilton   \n",
       "1      0  1467810917  Mon Apr 06 22:19:53 PDT 2009  NO_QUERY       mattycus   \n",
       "2      0  1467811184  Mon Apr 06 22:19:57 PDT 2009  NO_QUERY        ElleCTF   \n",
       "3      0  1467811193  Mon Apr 06 22:19:57 PDT 2009  NO_QUERY         Karoli   \n",
       "4      0  1467811372  Mon Apr 06 22:20:00 PDT 2009  NO_QUERY       joy_wolf   \n",
       "\n",
       "                                                text  \n",
       "0  is upset that he can't update his Facebook by ...  \n",
       "1  @Kenichan I dived many times for the ball. Man...  \n",
       "2    my whole body feels itchy and like its on fire   \n",
       "3  @nationwideclass no, it's not behaving at all....  \n",
       "4                      @Kwesidei not the whole crew   "
      ]
     },
     "execution_count": 3,
     "metadata": {},
     "output_type": "execute_result"
    }
   ],
   "source": [
    "#Top 5 records of data\n",
    "data.head()"
   ]
  },
  {
   "cell_type": "code",
   "execution_count": 4,
   "metadata": {
    "execution": {
     "iopub.execute_input": "2023-04-03T08:07:13.764971Z",
     "iopub.status.busy": "2023-04-03T08:07:13.764636Z",
     "iopub.status.idle": "2023-04-03T08:07:13.780465Z",
     "shell.execute_reply": "2023-04-03T08:07:13.779237Z",
     "shell.execute_reply.started": "2023-04-03T08:07:13.764937Z"
    }
   },
   "outputs": [
    {
     "data": {
      "text/html": [
       "<div>\n",
       "<style scoped>\n",
       "    .dataframe tbody tr th:only-of-type {\n",
       "        vertical-align: middle;\n",
       "    }\n",
       "\n",
       "    .dataframe tbody tr th {\n",
       "        vertical-align: top;\n",
       "    }\n",
       "\n",
       "    .dataframe thead th {\n",
       "        text-align: right;\n",
       "    }\n",
       "</style>\n",
       "<table border=\"1\" class=\"dataframe\">\n",
       "  <thead>\n",
       "    <tr style=\"text-align: right;\">\n",
       "      <th></th>\n",
       "      <th>label</th>\n",
       "      <th>time</th>\n",
       "      <th>date</th>\n",
       "      <th>query</th>\n",
       "      <th>username</th>\n",
       "      <th>text</th>\n",
       "    </tr>\n",
       "  </thead>\n",
       "  <tbody>\n",
       "    <tr>\n",
       "      <th>1599994</th>\n",
       "      <td>4</td>\n",
       "      <td>2193601966</td>\n",
       "      <td>Tue Jun 16 08:40:49 PDT 2009</td>\n",
       "      <td>NO_QUERY</td>\n",
       "      <td>AmandaMarie1028</td>\n",
       "      <td>Just woke up. Having no school is the best fee...</td>\n",
       "    </tr>\n",
       "    <tr>\n",
       "      <th>1599995</th>\n",
       "      <td>4</td>\n",
       "      <td>2193601969</td>\n",
       "      <td>Tue Jun 16 08:40:49 PDT 2009</td>\n",
       "      <td>NO_QUERY</td>\n",
       "      <td>TheWDBoards</td>\n",
       "      <td>TheWDB.com - Very cool to hear old Walt interv...</td>\n",
       "    </tr>\n",
       "    <tr>\n",
       "      <th>1599996</th>\n",
       "      <td>4</td>\n",
       "      <td>2193601991</td>\n",
       "      <td>Tue Jun 16 08:40:49 PDT 2009</td>\n",
       "      <td>NO_QUERY</td>\n",
       "      <td>bpbabe</td>\n",
       "      <td>Are you ready for your MoJo Makeover? Ask me f...</td>\n",
       "    </tr>\n",
       "    <tr>\n",
       "      <th>1599997</th>\n",
       "      <td>4</td>\n",
       "      <td>2193602064</td>\n",
       "      <td>Tue Jun 16 08:40:49 PDT 2009</td>\n",
       "      <td>NO_QUERY</td>\n",
       "      <td>tinydiamondz</td>\n",
       "      <td>Happy 38th Birthday to my boo of alll time!!! ...</td>\n",
       "    </tr>\n",
       "    <tr>\n",
       "      <th>1599998</th>\n",
       "      <td>4</td>\n",
       "      <td>2193602129</td>\n",
       "      <td>Tue Jun 16 08:40:50 PDT 2009</td>\n",
       "      <td>NO_QUERY</td>\n",
       "      <td>RyanTrevMorris</td>\n",
       "      <td>happy #charitytuesday @theNSPCC @SparksCharity...</td>\n",
       "    </tr>\n",
       "  </tbody>\n",
       "</table>\n",
       "</div>"
      ],
      "text/plain": [
       "         label        time                          date     query  \\\n",
       "1599994      4  2193601966  Tue Jun 16 08:40:49 PDT 2009  NO_QUERY   \n",
       "1599995      4  2193601969  Tue Jun 16 08:40:49 PDT 2009  NO_QUERY   \n",
       "1599996      4  2193601991  Tue Jun 16 08:40:49 PDT 2009  NO_QUERY   \n",
       "1599997      4  2193602064  Tue Jun 16 08:40:49 PDT 2009  NO_QUERY   \n",
       "1599998      4  2193602129  Tue Jun 16 08:40:50 PDT 2009  NO_QUERY   \n",
       "\n",
       "                username                                               text  \n",
       "1599994  AmandaMarie1028  Just woke up. Having no school is the best fee...  \n",
       "1599995      TheWDBoards  TheWDB.com - Very cool to hear old Walt interv...  \n",
       "1599996           bpbabe  Are you ready for your MoJo Makeover? Ask me f...  \n",
       "1599997     tinydiamondz  Happy 38th Birthday to my boo of alll time!!! ...  \n",
       "1599998   RyanTrevMorris  happy #charitytuesday @theNSPCC @SparksCharity...  "
      ]
     },
     "execution_count": 4,
     "metadata": {},
     "output_type": "execute_result"
    }
   ],
   "source": [
    "#Last 5 records of data\n",
    "data.tail()"
   ]
  },
  {
   "cell_type": "code",
   "execution_count": 5,
   "metadata": {
    "execution": {
     "iopub.execute_input": "2023-04-03T08:07:13.784702Z",
     "iopub.status.busy": "2023-04-03T08:07:13.784219Z",
     "iopub.status.idle": "2023-04-03T08:07:13.792982Z",
     "shell.execute_reply": "2023-04-03T08:07:13.791936Z",
     "shell.execute_reply.started": "2023-04-03T08:07:13.784653Z"
    }
   },
   "outputs": [
    {
     "data": {
      "text/plain": [
       "Index(['label', 'time', 'date', 'query', 'username', 'text'], dtype='object')"
      ]
     },
     "execution_count": 5,
     "metadata": {},
     "output_type": "execute_result"
    }
   ],
   "source": [
    "#Columns or features in data\n",
    "data.columns"
   ]
  },
  {
   "cell_type": "code",
   "execution_count": 6,
   "metadata": {
    "execution": {
     "iopub.execute_input": "2023-04-03T08:07:13.797052Z",
     "iopub.status.busy": "2023-04-03T08:07:13.796678Z",
     "iopub.status.idle": "2023-04-03T08:07:13.803593Z",
     "shell.execute_reply": "2023-04-03T08:07:13.802494Z",
     "shell.execute_reply.started": "2023-04-03T08:07:13.797017Z"
    }
   },
   "outputs": [
    {
     "name": "stdout",
     "output_type": "stream",
     "text": [
      "lenght of data is 1599999\n"
     ]
    }
   ],
   "source": [
    "#Length\n",
    "print('length of data is', len(data))"
   ]
  },
  {
   "cell_type": "code",
   "execution_count": 7,
   "metadata": {
    "execution": {
     "iopub.execute_input": "2023-04-03T08:07:13.805803Z",
     "iopub.status.busy": "2023-04-03T08:07:13.805374Z",
     "iopub.status.idle": "2023-04-03T08:07:13.814158Z",
     "shell.execute_reply": "2023-04-03T08:07:13.813064Z",
     "shell.execute_reply.started": "2023-04-03T08:07:13.805768Z"
    }
   },
   "outputs": [
    {
     "data": {
      "text/plain": [
       "(1599999, 6)"
      ]
     },
     "execution_count": 7,
     "metadata": {},
     "output_type": "execute_result"
    }
   ],
   "source": [
    "#Shape\n",
    "data.shape"
   ]
  },
  {
   "cell_type": "code",
   "execution_count": 8,
   "metadata": {
    "execution": {
     "iopub.execute_input": "2023-04-03T08:07:13.815585Z",
     "iopub.status.busy": "2023-04-03T08:07:13.815243Z",
     "iopub.status.idle": "2023-04-03T08:07:14.392341Z",
     "shell.execute_reply": "2023-04-03T08:07:14.391313Z",
     "shell.execute_reply.started": "2023-04-03T08:07:13.815553Z"
    }
   },
   "outputs": [
    {
     "name": "stdout",
     "output_type": "stream",
     "text": [
      "<class 'pandas.core.frame.DataFrame'>\n",
      "RangeIndex: 1599999 entries, 0 to 1599998\n",
      "Data columns (total 6 columns):\n",
      " #   Column    Non-Null Count    Dtype \n",
      "---  ------    --------------    ----- \n",
      " 0   label     1599999 non-null  int64 \n",
      " 1   time      1599999 non-null  int64 \n",
      " 2   date      1599999 non-null  object\n",
      " 3   query     1599999 non-null  object\n",
      " 4   username  1599999 non-null  object\n",
      " 5   text      1599999 non-null  object\n",
      "dtypes: int64(2), object(4)\n",
      "memory usage: 73.2+ MB\n"
     ]
    }
   ],
   "source": [
    "#Data information\n",
    "data.info()"
   ]
  },
  {
   "cell_type": "code",
   "execution_count": 9,
   "metadata": {
    "execution": {
     "iopub.execute_input": "2023-04-03T08:07:14.393912Z",
     "iopub.status.busy": "2023-04-03T08:07:14.393621Z",
     "iopub.status.idle": "2023-04-03T08:07:14.402041Z",
     "shell.execute_reply": "2023-04-03T08:07:14.400877Z",
     "shell.execute_reply.started": "2023-04-03T08:07:14.393884Z"
    }
   },
   "outputs": [
    {
     "data": {
      "text/plain": [
       "label        int64\n",
       "time         int64\n",
       "date        object\n",
       "query       object\n",
       "username    object\n",
       "text        object\n",
       "dtype: object"
      ]
     },
     "execution_count": 9,
     "metadata": {},
     "output_type": "execute_result"
    }
   ],
   "source": [
    "#Data types of all columns\n",
    "data.dtypes"
   ]
  },
  {
   "cell_type": "code",
   "execution_count": 10,
   "metadata": {
    "execution": {
     "iopub.execute_input": "2023-04-03T08:07:14.404144Z",
     "iopub.status.busy": "2023-04-03T08:07:14.403805Z",
     "iopub.status.idle": "2023-04-03T08:07:14.972744Z",
     "shell.execute_reply": "2023-04-03T08:07:14.971602Z",
     "shell.execute_reply.started": "2023-04-03T08:07:14.404110Z"
    },
    "scrolled": true
   },
   "outputs": [
    {
     "data": {
      "text/plain": [
       "0"
      ]
     },
     "execution_count": 10,
     "metadata": {},
     "output_type": "execute_result"
    }
   ],
   "source": [
    "#Checking Null values\n",
    "np.sum(data.isnull().any(axis=1))"
   ]
  },
  {
   "cell_type": "code",
   "execution_count": 11,
   "metadata": {
    "execution": {
     "iopub.execute_input": "2023-04-03T08:07:14.974909Z",
     "iopub.status.busy": "2023-04-03T08:07:14.974572Z",
     "iopub.status.idle": "2023-04-03T08:07:14.981879Z",
     "shell.execute_reply": "2023-04-03T08:07:14.980766Z",
     "shell.execute_reply.started": "2023-04-03T08:07:14.974875Z"
    }
   },
   "outputs": [
    {
     "name": "stdout",
     "output_type": "stream",
     "text": [
      "Count of columns in the data is:   6\n"
     ]
    }
   ],
   "source": [
    "#Rows in the dataset\n",
    "print('Count of columns in the data is:  ', len(data.columns))"
   ]
  },
  {
   "cell_type": "code",
   "execution_count": 12,
   "metadata": {
    "execution": {
     "iopub.execute_input": "2023-04-03T08:07:14.983888Z",
     "iopub.status.busy": "2023-04-03T08:07:14.983366Z",
     "iopub.status.idle": "2023-04-03T08:07:14.993506Z",
     "shell.execute_reply": "2023-04-03T08:07:14.992527Z",
     "shell.execute_reply.started": "2023-04-03T08:07:14.983832Z"
    }
   },
   "outputs": [
    {
     "name": "stdout",
     "output_type": "stream",
     "text": [
      "Count of rows in the data is:   1599999\n"
     ]
    }
   ],
   "source": [
    "#Columns in the dataset\n",
    "print('Count of rows in the data is:  ', len(data))"
   ]
  },
  {
   "cell_type": "markdown",
   "metadata": {
    "papermill": {
     "duration": 0.065466,
     "end_time": "2020-11-30T07:38:51.578836",
     "exception": false,
     "start_time": "2020-11-30T07:38:51.513370",
     "status": "completed"
    },
    "tags": []
   },
   "source": [
    "## Data Preparation "
   ]
  },
  {
   "cell_type": "code",
   "execution_count": 13,
   "metadata": {
    "execution": {
     "iopub.execute_input": "2023-04-03T08:07:14.996112Z",
     "iopub.status.busy": "2023-04-03T08:07:14.995782Z",
     "iopub.status.idle": "2023-04-03T08:07:15.040576Z",
     "shell.execute_reply": "2023-04-03T08:07:15.039479Z",
     "shell.execute_reply.started": "2023-04-03T08:07:14.996080Z"
    }
   },
   "outputs": [],
   "source": [
    "#Selecting the text and label column\n",
    "data=data[['text','label']]"
   ]
  },
  {
   "cell_type": "code",
   "execution_count": 14,
   "metadata": {
    "execution": {
     "iopub.execute_input": "2023-04-03T08:07:15.042427Z",
     "iopub.status.busy": "2023-04-03T08:07:15.041931Z",
     "iopub.status.idle": "2023-04-03T08:07:15.066103Z",
     "shell.execute_reply": "2023-04-03T08:07:15.065109Z",
     "shell.execute_reply.started": "2023-04-03T08:07:15.042390Z"
    }
   },
   "outputs": [],
   "source": [
    "#Assigning 1 to Positive sentiment 4\n",
    "data['label'][data['label']==4]=1"
   ]
  },
  {
   "cell_type": "code",
   "execution_count": 15,
   "metadata": {
    "execution": {
     "iopub.execute_input": "2023-04-03T08:07:15.067842Z",
     "iopub.status.busy": "2023-04-03T08:07:15.067486Z",
     "iopub.status.idle": "2023-04-03T08:07:15.168447Z",
     "shell.execute_reply": "2023-04-03T08:07:15.167498Z",
     "shell.execute_reply.started": "2023-04-03T08:07:15.067809Z"
    }
   },
   "outputs": [],
   "source": [
    "#Separating positive and negative tweets\n",
    "data_pos = data[data['label'] == 1]\n",
    "data_neg = data[data['label'] == 0]"
   ]
  },
  {
   "cell_type": "code",
   "execution_count": 16,
   "metadata": {
    "execution": {
     "iopub.execute_input": "2023-04-03T08:07:15.169896Z",
     "iopub.status.busy": "2023-04-03T08:07:15.169595Z",
     "iopub.status.idle": "2023-04-03T08:07:15.175035Z",
     "shell.execute_reply": "2023-04-03T08:07:15.174154Z",
     "shell.execute_reply.started": "2023-04-03T08:07:15.169867Z"
    }
   },
   "outputs": [],
   "source": [
    "#Taking one fourth data so we can run on our machine easily \n",
    "data_pos = data_pos.iloc[:int(20000)]\n",
    "data_neg = data_neg.iloc[:int(20000)]"
   ]
  },
  {
   "cell_type": "code",
   "execution_count": 17,
   "metadata": {
    "execution": {
     "iopub.execute_input": "2023-04-03T08:07:15.176637Z",
     "iopub.status.busy": "2023-04-03T08:07:15.176355Z",
     "iopub.status.idle": "2023-04-03T08:07:15.206969Z",
     "shell.execute_reply": "2023-04-03T08:07:15.205999Z",
     "shell.execute_reply.started": "2023-04-03T08:07:15.176609Z"
    }
   },
   "outputs": [],
   "source": [
    "#Combining positive and negative tweets\n",
    "data = pd.concat([data_pos, data_neg])"
   ]
  },
  {
   "cell_type": "code",
   "execution_count": 18,
   "metadata": {
    "execution": {
     "iopub.execute_input": "2023-04-03T08:07:15.208755Z",
     "iopub.status.busy": "2023-04-03T08:07:15.208452Z",
     "iopub.status.idle": "2023-04-03T08:07:15.243452Z",
     "shell.execute_reply": "2023-04-03T08:07:15.242469Z",
     "shell.execute_reply.started": "2023-04-03T08:07:15.208726Z"
    }
   },
   "outputs": [],
   "source": [
    "#Making statement text in lower case\n",
    "data['text']=data['text'].str.lower()"
   ]
  },
  {
   "cell_type": "code",
   "execution_count": 19,
   "metadata": {
    "execution": {
     "iopub.execute_input": "2023-04-03T08:07:15.245653Z",
     "iopub.status.busy": "2023-04-03T08:07:15.245207Z",
     "iopub.status.idle": "2023-04-03T08:07:15.256487Z",
     "shell.execute_reply": "2023-04-03T08:07:15.255624Z",
     "shell.execute_reply.started": "2023-04-03T08:07:15.245604Z"
    }
   },
   "outputs": [
    {
     "data": {
      "text/plain": [
       "19995                            one more day of holidays \n",
       "19996    feeling so down right now .. i hate you damn h...\n",
       "19997    geez,i hv to read the whole book of personalit...\n",
       "19998    i threw my sign at donnie and he bent over to ...\n",
       "19999    @heather2711 good thing i didn't find any then...\n",
       "Name: text, dtype: object"
      ]
     },
     "execution_count": 19,
     "metadata": {},
     "output_type": "execute_result"
    }
   ],
   "source": [
    "data['text'].tail()"
   ]
  },
  {
   "cell_type": "code",
   "execution_count": 20,
   "metadata": {
    "execution": {
     "iopub.execute_input": "2023-04-03T08:07:15.258676Z",
     "iopub.status.busy": "2023-04-03T08:07:15.258042Z",
     "iopub.status.idle": "2023-04-03T08:07:15.270584Z",
     "shell.execute_reply": "2023-04-03T08:07:15.269641Z",
     "shell.execute_reply.started": "2023-04-03T08:07:15.258640Z"
    }
   },
   "outputs": [],
   "source": [
    "#Cleaning and removing Stop words of english\n",
    "stopwords_list = stopwords.words('english')"
   ]
  },
  {
   "cell_type": "code",
   "execution_count": 21,
   "metadata": {
    "execution": {
     "iopub.execute_input": "2023-04-03T08:07:15.273049Z",
     "iopub.status.busy": "2023-04-03T08:07:15.272091Z",
     "iopub.status.idle": "2023-04-03T08:07:15.288710Z",
     "shell.execute_reply": "2023-04-03T08:07:15.287079Z",
     "shell.execute_reply.started": "2023-04-03T08:07:15.272988Z"
    }
   },
   "outputs": [
    {
     "data": {
      "text/plain": [
       "\"i, me, my, myself, we, our, ours, ourselves, you, you're, you've, you'll, you'd, your, yours, yourself, yourselves, he, him, his, himself, she, she's, her, hers, herself, it, it's, its, itself, they, them, their, theirs, themselves, what, which, who, whom, this, that, that'll, these, those, am, is, are, was, were, be, been, being, have, has, had, having, do, does, did, doing, a, an, the, and, but, if, or, because, as, until, while, of, at, by, for, with, about, against, between, into, through, during, before, after, above, below, to, from, up, down, in, out, on, off, over, under, again, further, then, once, here, there, when, where, why, how, all, any, both, each, few, more, most, other, some, such, no, nor, not, only, own, same, so, than, too, very, s, t, can, will, just, don, don't, should, should've, now, d, ll, m, o, re, ve, y, ain, aren, aren't, couldn, couldn't, didn, didn't, doesn, doesn't, hadn, hadn't, hasn, hasn't, haven, haven't, isn, isn't, ma, mightn, mightn't, mustn, mustn't, needn, needn't, shan, shan't, shouldn, shouldn't, wasn, wasn't, weren, weren't, won, won't, wouldn, wouldn't\""
      ]
     },
     "execution_count": 21,
     "metadata": {},
     "output_type": "execute_result"
    }
   ],
   "source": [
    "from nltk.corpus import stopwords\n",
    "\", \".join(stopwords.words('english'))"
   ]
  },
  {
   "cell_type": "code",
   "execution_count": 22,
   "metadata": {
    "execution": {
     "iopub.execute_input": "2023-04-03T08:07:15.291649Z",
     "iopub.status.busy": "2023-04-03T08:07:15.290786Z",
     "iopub.status.idle": "2023-04-03T08:07:15.453946Z",
     "shell.execute_reply": "2023-04-03T08:07:15.452724Z",
     "shell.execute_reply.started": "2023-04-03T08:07:15.291600Z"
    }
   },
   "outputs": [
    {
     "data": {
      "text/plain": [
       "799999                love @health4uandpets u guys r best!!\n",
       "800000    im meeting one besties tonight! cant wait!! - ...\n",
       "800001    @darealsunisakim thanks twitter add, sunisa! g...\n",
       "800002    sick really cheap hurts much eat real food plu...\n",
       "800003                      @lovesbrooklyn2 effect everyone\n",
       "Name: text, dtype: object"
      ]
     },
     "execution_count": 22,
     "metadata": {},
     "output_type": "execute_result"
    }
   ],
   "source": [
    "#Cleaning and removing the above stop words list from the tweet text\n",
    "STOPWORDS = set(stopwords.words('english'))\n",
    "def cleaning_stopwords(text):\n",
    "    return \" \".join([word for word in str(text).split() if word not in STOPWORDS])\n",
    "data['text'] = data['text'].apply(lambda text: cleaning_stopwords(text))\n",
    "data['text'].head()"
   ]
  },
  {
   "cell_type": "code",
   "execution_count": 23,
   "metadata": {
    "execution": {
     "iopub.execute_input": "2023-04-03T08:07:15.456685Z",
     "iopub.status.busy": "2023-04-03T08:07:15.456165Z",
     "iopub.status.idle": "2023-04-03T08:07:15.463299Z",
     "shell.execute_reply": "2023-04-03T08:07:15.462154Z",
     "shell.execute_reply.started": "2023-04-03T08:07:15.456636Z"
    }
   },
   "outputs": [],
   "source": [
    "#Cleaning and removing punctuations \n",
    "english_punctuations = string.punctuation\n",
    "punctuations_list = english_punctuations\n",
    "def cleaning_punctuations(text):\n",
    "    translator = str.maketrans('', '', punctuations_list)\n",
    "    return text.translate(translator)"
   ]
  },
  {
   "cell_type": "code",
   "execution_count": 24,
   "metadata": {
    "execution": {
     "iopub.execute_input": "2023-04-03T08:07:15.465920Z",
     "iopub.status.busy": "2023-04-03T08:07:15.465156Z",
     "iopub.status.idle": "2023-04-03T08:07:15.663982Z",
     "shell.execute_reply": "2023-04-03T08:07:15.662963Z",
     "shell.execute_reply.started": "2023-04-03T08:07:15.465874Z"
    }
   },
   "outputs": [
    {
     "data": {
      "text/plain": [
       "19995                                     one day holidays\n",
       "19996                     feeling right  hate damn humprey\n",
       "19997    geezi hv read whole book personality types emb...\n",
       "19998     threw sign donnie bent get thingee made sad face\n",
       "19999    heather2711 good thing find none ones like com...\n",
       "Name: text, dtype: object"
      ]
     },
     "execution_count": 24,
     "metadata": {},
     "output_type": "execute_result"
    }
   ],
   "source": [
    "data['text']= data['text'].apply(lambda x: cleaning_punctuations(x))\n",
    "data['text'].tail()"
   ]
  },
  {
   "cell_type": "code",
   "execution_count": 25,
   "metadata": {
    "execution": {
     "iopub.execute_input": "2023-04-03T08:07:15.666030Z",
     "iopub.status.busy": "2023-04-03T08:07:15.665703Z",
     "iopub.status.idle": "2023-04-03T08:07:15.670391Z",
     "shell.execute_reply": "2023-04-03T08:07:15.669342Z",
     "shell.execute_reply.started": "2023-04-03T08:07:15.665998Z"
    }
   },
   "outputs": [],
   "source": [
    "#Cleaning and removing repeating characters\n",
    "def cleaning_repeating_char(text):\n",
    "    return re.sub(r'(.)\\1+', r'\\1', text)"
   ]
  },
  {
   "cell_type": "code",
   "execution_count": 26,
   "metadata": {
    "execution": {
     "iopub.execute_input": "2023-04-03T08:07:15.672418Z",
     "iopub.status.busy": "2023-04-03T08:07:15.671890Z",
     "iopub.status.idle": "2023-04-03T08:07:16.044609Z",
     "shell.execute_reply": "2023-04-03T08:07:16.043726Z",
     "shell.execute_reply.started": "2023-04-03T08:07:15.672365Z"
    }
   },
   "outputs": [
    {
     "data": {
      "text/plain": [
       "19995                                     one day holidays\n",
       "19996                       feling right hate damn humprey\n",
       "19997    gezi hv read whole bok personality types embar...\n",
       "19998       threw sign donie bent get thinge made sad face\n",
       "19999    heather271 god thing find none ones like come ...\n",
       "Name: text, dtype: object"
      ]
     },
     "execution_count": 26,
     "metadata": {},
     "output_type": "execute_result"
    }
   ],
   "source": [
    "data['text'] = data['text'].apply(lambda x: cleaning_repeating_char(x))\n",
    "data['text'].tail()"
   ]
  },
  {
   "cell_type": "code",
   "execution_count": 27,
   "metadata": {
    "execution": {
     "iopub.execute_input": "2023-04-03T08:07:16.046420Z",
     "iopub.status.busy": "2023-04-03T08:07:16.045876Z",
     "iopub.status.idle": "2023-04-03T08:07:16.051278Z",
     "shell.execute_reply": "2023-04-03T08:07:16.050171Z",
     "shell.execute_reply.started": "2023-04-03T08:07:16.046362Z"
    }
   },
   "outputs": [],
   "source": [
    "#Cleaning and removing email\n",
    "def cleaning_email(data):\n",
    "    return re.sub('@[^\\s]+', ' ', data)"
   ]
  },
  {
   "cell_type": "code",
   "execution_count": 28,
   "metadata": {
    "execution": {
     "iopub.execute_input": "2023-04-03T08:07:16.053347Z",
     "iopub.status.busy": "2023-04-03T08:07:16.052987Z",
     "iopub.status.idle": "2023-04-03T08:07:16.128762Z",
     "shell.execute_reply": "2023-04-03T08:07:16.127849Z",
     "shell.execute_reply.started": "2023-04-03T08:07:16.053290Z"
    }
   },
   "outputs": [
    {
     "data": {
      "text/plain": [
       "19995                                     one day holidays\n",
       "19996                       feling right hate damn humprey\n",
       "19997    gezi hv read whole bok personality types embar...\n",
       "19998       threw sign donie bent get thinge made sad face\n",
       "19999    heather271 god thing find none ones like come ...\n",
       "Name: text, dtype: object"
      ]
     },
     "execution_count": 28,
     "metadata": {},
     "output_type": "execute_result"
    }
   ],
   "source": [
    "data['text']= data['text'].apply(lambda x: cleaning_email(x))\n",
    "data['text'].tail()"
   ]
  },
  {
   "cell_type": "code",
   "execution_count": 29,
   "metadata": {
    "execution": {
     "iopub.execute_input": "2023-04-03T08:07:16.130626Z",
     "iopub.status.busy": "2023-04-03T08:07:16.130077Z",
     "iopub.status.idle": "2023-04-03T08:07:16.135607Z",
     "shell.execute_reply": "2023-04-03T08:07:16.134287Z",
     "shell.execute_reply.started": "2023-04-03T08:07:16.130570Z"
    }
   },
   "outputs": [],
   "source": [
    "#Cleaning and removing URL's\n",
    "def cleaning_URLs(data):\n",
    "    return re.sub('((www\\.[^\\s]+)|(https?://[^\\s]+))',' ',data)"
   ]
  },
  {
   "cell_type": "code",
   "execution_count": 30,
   "metadata": {
    "execution": {
     "iopub.execute_input": "2023-04-03T08:07:16.137889Z",
     "iopub.status.busy": "2023-04-03T08:07:16.137554Z",
     "iopub.status.idle": "2023-04-03T08:07:16.317718Z",
     "shell.execute_reply": "2023-04-03T08:07:16.316858Z",
     "shell.execute_reply.started": "2023-04-03T08:07:16.137856Z"
    }
   },
   "outputs": [
    {
     "data": {
      "text/plain": [
       "19995                                     one day holidays\n",
       "19996                       feling right hate damn humprey\n",
       "19997    gezi hv read whole bok personality types embar...\n",
       "19998       threw sign donie bent get thinge made sad face\n",
       "19999    heather271 god thing find none ones like come ...\n",
       "Name: text, dtype: object"
      ]
     },
     "execution_count": 30,
     "metadata": {},
     "output_type": "execute_result"
    }
   ],
   "source": [
    "data['text'] = data['text'].apply(lambda x: cleaning_URLs(x))\n",
    "data['text'].tail()"
   ]
  },
  {
   "cell_type": "code",
   "execution_count": 31,
   "metadata": {
    "execution": {
     "iopub.execute_input": "2023-04-03T08:07:16.319441Z",
     "iopub.status.busy": "2023-04-03T08:07:16.318950Z",
     "iopub.status.idle": "2023-04-03T08:07:16.323331Z",
     "shell.execute_reply": "2023-04-03T08:07:16.322487Z",
     "shell.execute_reply.started": "2023-04-03T08:07:16.319386Z"
    }
   },
   "outputs": [],
   "source": [
    "#Cleaning and removing Numeric numbers\n",
    "def cleaning_numbers(data):\n",
    "    return re.sub('[0-9]+', '', data)"
   ]
  },
  {
   "cell_type": "code",
   "execution_count": 32,
   "metadata": {
    "execution": {
     "iopub.execute_input": "2023-04-03T08:07:16.329940Z",
     "iopub.status.busy": "2023-04-03T08:07:16.329364Z",
     "iopub.status.idle": "2023-04-03T08:07:16.452657Z",
     "shell.execute_reply": "2023-04-03T08:07:16.451414Z",
     "shell.execute_reply.started": "2023-04-03T08:07:16.329742Z"
    }
   },
   "outputs": [
    {
     "data": {
      "text/plain": [
       "19995                                     one day holidays\n",
       "19996                       feling right hate damn humprey\n",
       "19997    gezi hv read whole bok personality types embar...\n",
       "19998       threw sign donie bent get thinge made sad face\n",
       "19999    heather god thing find none ones like come siz...\n",
       "Name: text, dtype: object"
      ]
     },
     "execution_count": 32,
     "metadata": {},
     "output_type": "execute_result"
    }
   ],
   "source": [
    "data['text'] = data['text'].apply(lambda x: cleaning_numbers(x))\n",
    "data['text'].tail()"
   ]
  },
  {
   "cell_type": "code",
   "execution_count": 33,
   "metadata": {
    "execution": {
     "iopub.execute_input": "2023-04-03T08:07:16.454479Z",
     "iopub.status.busy": "2023-04-03T08:07:16.454097Z",
     "iopub.status.idle": "2023-04-03T08:07:16.597642Z",
     "shell.execute_reply": "2023-04-03T08:07:16.596640Z",
     "shell.execute_reply.started": "2023-04-03T08:07:16.454445Z"
    }
   },
   "outputs": [],
   "source": [
    "#Getting tokenization of tweet text\n",
    "tokenizer = RegexpTokenizer(r'\\w+')\n",
    "data['text'] = data['text'].apply(tokenizer.tokenize)"
   ]
  },
  {
   "cell_type": "code",
   "execution_count": 34,
   "metadata": {
    "execution": {
     "iopub.execute_input": "2023-04-03T08:07:16.600837Z",
     "iopub.status.busy": "2023-04-03T08:07:16.600376Z",
     "iopub.status.idle": "2023-04-03T08:07:16.614218Z",
     "shell.execute_reply": "2023-04-03T08:07:16.612684Z",
     "shell.execute_reply.started": "2023-04-03T08:07:16.600789Z"
    }
   },
   "outputs": [
    {
     "data": {
      "text/plain": [
       "799999             [love, healthuandpets, u, guys, r, best]\n",
       "800000    [im, meting, one, besties, tonight, cant, wait...\n",
       "800001    [darealsunisakim, thanks, twiter, ad, sunisa, ...\n",
       "800002    [sick, realy, cheap, hurts, much, eat, real, f...\n",
       "800003                      [lovesbroklyn, efect, everyone]\n",
       "Name: text, dtype: object"
      ]
     },
     "execution_count": 34,
     "metadata": {},
     "output_type": "execute_result"
    }
   ],
   "source": [
    "data['text'].head()"
   ]
  },
  {
   "cell_type": "code",
   "execution_count": 35,
   "metadata": {
    "execution": {
     "iopub.execute_input": "2023-04-03T08:07:16.615994Z",
     "iopub.status.busy": "2023-04-03T08:07:16.615591Z",
     "iopub.status.idle": "2023-04-03T08:07:24.781361Z",
     "shell.execute_reply": "2023-04-03T08:07:24.780017Z",
     "shell.execute_reply.started": "2023-04-03T08:07:16.615961Z"
    }
   },
   "outputs": [],
   "source": [
    "#Applying Stemming\n",
    "st = nltk.PorterStemmer()\n",
    "def stemming_on_text(data):\n",
    "    text = [st.stem(word) for word in data]\n",
    "    return data\n",
    "\n",
    "data['text']= data['text'].apply(lambda x: stemming_on_text(x))"
   ]
  },
  {
   "cell_type": "code",
   "execution_count": 36,
   "metadata": {
    "execution": {
     "iopub.execute_input": "2023-04-03T08:07:24.783363Z",
     "iopub.status.busy": "2023-04-03T08:07:24.783012Z",
     "iopub.status.idle": "2023-04-03T08:07:24.792087Z",
     "shell.execute_reply": "2023-04-03T08:07:24.790904Z",
     "shell.execute_reply.started": "2023-04-03T08:07:24.783331Z"
    }
   },
   "outputs": [
    {
     "data": {
      "text/plain": [
       "799999             [love, healthuandpets, u, guys, r, best]\n",
       "800000    [im, meting, one, besties, tonight, cant, wait...\n",
       "800001    [darealsunisakim, thanks, twiter, ad, sunisa, ...\n",
       "800002    [sick, realy, cheap, hurts, much, eat, real, f...\n",
       "800003                      [lovesbroklyn, efect, everyone]\n",
       "Name: text, dtype: object"
      ]
     },
     "execution_count": 36,
     "metadata": {},
     "output_type": "execute_result"
    }
   ],
   "source": [
    "data['text'].head()"
   ]
  },
  {
   "cell_type": "code",
   "execution_count": 37,
   "metadata": {
    "execution": {
     "iopub.execute_input": "2023-04-03T08:07:24.793598Z",
     "iopub.status.busy": "2023-04-03T08:07:24.793309Z",
     "iopub.status.idle": "2023-04-03T08:07:27.893919Z",
     "shell.execute_reply": "2023-04-03T08:07:27.892678Z",
     "shell.execute_reply.started": "2023-04-03T08:07:24.793570Z"
    }
   },
   "outputs": [],
   "source": [
    "#Applying Lemmatizer\n",
    "lm = nltk.WordNetLemmatizer()\n",
    "def lemmatizer_on_text(data):\n",
    "    text = [lm.lemmatize(word) for word in data]\n",
    "    return data\n",
    "\n",
    "data['text'] = data['text'].apply(lambda x: lemmatizer_on_text(x))"
   ]
  },
  {
   "cell_type": "code",
   "execution_count": 38,
   "metadata": {
    "execution": {
     "iopub.execute_input": "2023-04-03T08:07:27.895832Z",
     "iopub.status.busy": "2023-04-03T08:07:27.895414Z",
     "iopub.status.idle": "2023-04-03T08:07:27.904120Z",
     "shell.execute_reply": "2023-04-03T08:07:27.903292Z",
     "shell.execute_reply.started": "2023-04-03T08:07:27.895799Z"
    }
   },
   "outputs": [
    {
     "data": {
      "text/plain": [
       "799999             [love, healthuandpets, u, guys, r, best]\n",
       "800000    [im, meting, one, besties, tonight, cant, wait...\n",
       "800001    [darealsunisakim, thanks, twiter, ad, sunisa, ...\n",
       "800002    [sick, realy, cheap, hurts, much, eat, real, f...\n",
       "800003                      [lovesbroklyn, efect, everyone]\n",
       "Name: text, dtype: object"
      ]
     },
     "execution_count": 38,
     "metadata": {},
     "output_type": "execute_result"
    }
   ],
   "source": [
    "data['text'].head()"
   ]
  },
  {
   "cell_type": "code",
   "execution_count": 39,
   "metadata": {
    "execution": {
     "iopub.execute_input": "2023-04-03T08:07:27.906140Z",
     "iopub.status.busy": "2023-04-03T08:07:27.905517Z",
     "iopub.status.idle": "2023-04-03T08:07:27.913936Z",
     "shell.execute_reply": "2023-04-03T08:07:27.912979Z",
     "shell.execute_reply.started": "2023-04-03T08:07:27.906108Z"
    }
   },
   "outputs": [],
   "source": [
    "#Separating input feature and label\n",
    "X=data.text\n",
    "y=data.label"
   ]
  },
  {
   "cell_type": "code",
   "execution_count": 40,
   "metadata": {
    "execution": {
     "iopub.execute_input": "2023-04-03T08:07:27.915589Z",
     "iopub.status.busy": "2023-04-03T08:07:27.915064Z",
     "iopub.status.idle": "2023-04-03T08:07:28.795463Z",
     "shell.execute_reply": "2023-04-03T08:07:28.794447Z",
     "shell.execute_reply.started": "2023-04-03T08:07:27.915552Z"
    },
    "id": "plIFObh4jYJV",
    "outputId": "cc21833e-e053-454b-d410-b8e9d48b4392"
   },
   "outputs": [],
   "source": [
    "max_len = 500\n",
    "tok = Tokenizer(num_words=2000)\n",
    "tok.fit_on_texts(X)\n",
    "sequences = tok.texts_to_sequences(X)\n",
    "sequences_matrix = sequence.pad_sequences(sequences,maxlen=max_len)"
   ]
  },
  {
   "cell_type": "markdown",
   "metadata": {},
   "source": [
    "As we can see that there total 40000 tweets and the number words/features are 500."
   ]
  },
  {
   "cell_type": "code",
   "execution_count": 41,
   "metadata": {
    "execution": {
     "iopub.execute_input": "2023-04-03T08:07:28.797125Z",
     "iopub.status.busy": "2023-04-03T08:07:28.796659Z",
     "iopub.status.idle": "2023-04-03T08:07:28.802844Z",
     "shell.execute_reply": "2023-04-03T08:07:28.801436Z",
     "shell.execute_reply.started": "2023-04-03T08:07:28.797093Z"
    }
   },
   "outputs": [
    {
     "data": {
      "text/plain": [
       "(40000, 500)"
      ]
     },
     "execution_count": 41,
     "metadata": {},
     "output_type": "execute_result"
    }
   ],
   "source": [
    "sequences_matrix.shape"
   ]
  },
  {
   "cell_type": "markdown",
   "metadata": {},
   "source": [
    "#### Separating the 70% data for training data and 30% for testing data"
   ]
  },
  {
   "cell_type": "markdown",
   "metadata": {},
   "source": [
    "As we prepared all the tweets, now we are separating/splitting the tweets into training data and testing data.\n",
    "- 70% tweets will be used in the training \n",
    "- 30% tweets will be used to test the performance of the model."
   ]
  },
  {
   "cell_type": "code",
   "execution_count": 42,
   "metadata": {
    "execution": {
     "iopub.execute_input": "2023-04-03T08:07:28.804947Z",
     "iopub.status.busy": "2023-04-03T08:07:28.804538Z",
     "iopub.status.idle": "2023-04-03T08:07:28.851833Z",
     "shell.execute_reply": "2023-04-03T08:07:28.850793Z",
     "shell.execute_reply.started": "2023-04-03T08:07:28.804900Z"
    },
    "id": "oOlkTTg4oRqR"
   },
   "outputs": [],
   "source": [
    "X_train, X_test, Y_train, Y_test = train_test_split(sequences_matrix, y, test_size=0.3, random_state=2)"
   ]
  },
  {
   "cell_type": "markdown",
   "metadata": {
    "papermill": {
     "duration": 0.065466,
     "end_time": "2020-11-30T07:38:51.578836",
     "exception": false,
     "start_time": "2020-11-30T07:38:51.513370",
     "status": "completed"
    },
    "tags": []
   },
   "source": [
    "## Implementing Tensorflow based model for training"
   ]
  },
  {
   "cell_type": "code",
   "execution_count": 43,
   "metadata": {
    "execution": {
     "iopub.execute_input": "2023-04-03T08:07:28.853569Z",
     "iopub.status.busy": "2023-04-03T08:07:28.853275Z",
     "iopub.status.idle": "2023-04-03T08:07:28.860928Z",
     "shell.execute_reply": "2023-04-03T08:07:28.859834Z",
     "shell.execute_reply.started": "2023-04-03T08:07:28.853539Z"
    }
   },
   "outputs": [],
   "source": [
    "def tensorflow_based_model(): #Defined tensorflow_based_model function for training tenforflow based model\n",
    "    inputs = Input(name='inputs',shape=[max_len])#step1\n",
    "    layer = Embedding(2000,50,input_length=max_len)(inputs) #step2\n",
    "    layer = LSTM(64)(layer) #step3\n",
    "    layer = Dense(256,name='FC1')(layer) #step4\n",
    "    layer = Activation('relu')(layer) # step5\n",
    "    layer = Dropout(0.5)(layer) # step6\n",
    "    layer = Dense(1,name='out_layer')(layer) #step4 again but this time its giving only one output as because we need to classify the tweet as positive or negative\n",
    "    layer = Activation('sigmoid')(layer) #step5 but this time activation function is sigmoid for only one output.\n",
    "    model = Model(inputs=inputs,outputs=layer) #here we are getting the final output value in the model for classification\n",
    "    return model #function returning the value when we call it"
   ]
  },
  {
   "cell_type": "markdown",
   "metadata": {},
   "source": [
    "# Model compilation"
   ]
  },
  {
   "cell_type": "markdown",
   "metadata": {},
   "source": [
    "- First we are calling the model\n",
    "- We are using 2 classes so we set \"binary_crossentropy\" and if we use more than two classes then we use \"categorical_crossentropy\" \n",
    "- Optimizer is a function that used to change the features of neural network such as learning rate (how the model learn with features) in order to reduce the losses. So the learning rate of neural network to reduce the losses is defined by optimizer.\n",
    "- We are setting metrics=accuracy because we are going to caluclate the percentage of correct predictions over all predictions on the validation set"
   ]
  },
  {
   "cell_type": "code",
   "execution_count": 44,
   "metadata": {
    "execution": {
     "iopub.execute_input": "2023-04-03T08:07:28.862755Z",
     "iopub.status.busy": "2023-04-03T08:07:28.862457Z",
     "iopub.status.idle": "2023-04-03T08:07:29.197013Z",
     "shell.execute_reply": "2023-04-03T08:07:29.196099Z",
     "shell.execute_reply.started": "2023-04-03T08:07:28.862726Z"
    }
   },
   "outputs": [],
   "source": [
    "model = tensorflow_based_model() # here we are calling the function of created model\n",
    "model.compile(loss='binary_crossentropy',optimizer=RMSprop(),metrics=['accuracy'])  "
   ]
  },
  {
   "cell_type": "markdown",
   "metadata": {},
   "source": [
    "#### Training and validating with parameter tuning\n",
    "- We are feeding the training data and getting 10% data for validation from training data\n",
    "* We set the following parameters:\n",
    "- Batch size =80 so the model take 80 tweets in each iteration and train them. Batch size is a term used in machine learning and refers to the number of training examples utilized in one iteration. \n",
    "- Epochs =6 so the model will train on the data 6 times.Epoch is a term used in machine learning and indicates the number of passes of the entire training dataset the machine learning algorithm has completed. \n",
    "- We can choose batch_size, and epochs as we want so the good practice is to set some values and train the model if the model will not give the good results we can change it and then try again for the training of the model. We can repeat this process many time untill we will not get the good results and this process called as parameter tuning.\n"
   ]
  },
  {
   "cell_type": "code",
   "execution_count": 45,
   "metadata": {
    "execution": {
     "iopub.execute_input": "2023-04-03T08:07:29.198483Z",
     "iopub.status.busy": "2023-04-03T08:07:29.198154Z",
     "iopub.status.idle": "2023-04-03T08:21:48.133043Z",
     "shell.execute_reply": "2023-04-03T08:21:48.131766Z",
     "shell.execute_reply.started": "2023-04-03T08:07:29.198452Z"
    }
   },
   "outputs": [
    {
     "name": "stdout",
     "output_type": "stream",
     "text": [
      "Epoch 1/6\n",
      "315/315 [==============================] - 146s 458ms/step - loss: 0.6204 - accuracy: 0.6394 - val_loss: 0.5233 - val_accuracy: 0.7468\n",
      "Epoch 2/6\n",
      "315/315 [==============================] - 143s 453ms/step - loss: 0.4986 - accuracy: 0.7595 - val_loss: 0.5159 - val_accuracy: 0.7425\n",
      "Epoch 3/6\n",
      "315/315 [==============================] - 142s 452ms/step - loss: 0.5742 - accuracy: 0.7247 - val_loss: 0.5193 - val_accuracy: 0.7461\n",
      "Epoch 4/6\n",
      "315/315 [==============================] - 143s 455ms/step - loss: 0.5056 - accuracy: 0.7523 - val_loss: 0.5175 - val_accuracy: 0.7446\n",
      "Epoch 5/6\n",
      "315/315 [==============================] - 142s 451ms/step - loss: 0.4703 - accuracy: 0.7759 - val_loss: 0.5232 - val_accuracy: 0.7457\n",
      "Epoch 6/6\n",
      "315/315 [==============================] - 142s 451ms/step - loss: 0.4585 - accuracy: 0.7817 - val_loss: 0.5345 - val_accuracy: 0.7379\n",
      "Training finished !!\n"
     ]
    }
   ],
   "source": [
    "history=model.fit(X_train,Y_train,batch_size=80,epochs=6, validation_split=0.1)# here we are starting the training of model by feeding the training data\n",
    "print('Training finished !!')"
   ]
  },
  {
   "cell_type": "markdown",
   "metadata": {},
   "source": [
    "#### We need to do all the above configurations to train the model. If we will not set all settings correctly then we could not get the desired results."
   ]
  },
  {
   "cell_type": "markdown",
   "metadata": {
    "id": "aQ72A5F4U0wr"
   },
   "source": [
    "#### Testing the Trained model on test data\n",
    "- Getting predictions/classifying the sentiments (positve/negative) on the test data using trained model."
   ]
  },
  {
   "cell_type": "code",
   "execution_count": 46,
   "metadata": {
    "execution": {
     "iopub.execute_input": "2023-04-03T08:21:48.136111Z",
     "iopub.status.busy": "2023-04-03T08:21:48.135145Z",
     "iopub.status.idle": "2023-04-03T08:22:16.748346Z",
     "shell.execute_reply": "2023-04-03T08:22:16.747021Z",
     "shell.execute_reply.started": "2023-04-03T08:21:48.136060Z"
    },
    "executionInfo": {
     "elapsed": 2136,
     "status": "ok",
     "timestamp": 1590595289545,
     "user": {
      "displayName": "Muhammad Imran Zaman",
      "photoUrl": "https://lh3.googleusercontent.com/a-/AOh14GjYO6GnhoI_aryKI-bhtIReU4wH4wLPGZdwWVtS=s64",
      "userId": "06817026978292405035"
     },
     "user_tz": -300
    },
    "id": "LlxD3pU9U0ws",
    "outputId": "a1adf83f-f07c-4f10-fc1c-a895f6e39d56"
   },
   "outputs": [
    {
     "name": "stdout",
     "output_type": "stream",
     "text": [
      "375/375 [==============================] - 29s 75ms/step - loss: 0.5254 - accuracy: 0.7462\n"
     ]
    }
   ],
   "source": [
    "accr1 = model.evaluate(X_test,Y_test) #we are starting to test the model here"
   ]
  },
  {
   "cell_type": "markdown",
   "metadata": {
    "id": "h5ZOTOh14WKO"
   },
   "source": [
    "#### Accuracy\n",
    "- Accuracy is the number of correctly classify tweets from all the tweets of positive and negative. \n",
    "- For example, if the trained model classify the 70 tweets correct and 30 tweets wrong from total of 100 tweets then the accuracy score will be 70%. \n",
    "- Accuracy= Total number of correct predictions/Total number of predictions"
   ]
  },
  {
   "cell_type": "code",
   "execution_count": 47,
   "metadata": {
    "execution": {
     "iopub.execute_input": "2023-04-03T08:22:16.750791Z",
     "iopub.status.busy": "2023-04-03T08:22:16.750445Z",
     "iopub.status.idle": "2023-04-03T08:22:16.758308Z",
     "shell.execute_reply": "2023-04-03T08:22:16.756728Z",
     "shell.execute_reply.started": "2023-04-03T08:22:16.750760Z"
    },
    "executionInfo": {
     "elapsed": 3304,
     "status": "ok",
     "timestamp": 1590596501745,
     "user": {
      "displayName": "Muhammad Imran Zaman",
      "photoUrl": "https://lh3.googleusercontent.com/a-/AOh14GjYO6GnhoI_aryKI-bhtIReU4wH4wLPGZdwWVtS=s64",
      "userId": "06817026978292405035"
     },
     "user_tz": -300
    },
    "id": "E2bQq4jaU0wt",
    "outputId": "fe61d1b5-954a-4770-d423-ab897f64b495"
   },
   "outputs": [
    {
     "name": "stdout",
     "output_type": "stream",
     "text": [
      "Test set\n",
      "  Accuracy: 0.75\n"
     ]
    }
   ],
   "source": [
    "print('Test set\\n  Accuracy: {:0.2f}'.format(accr1[1])) #the accuracy of the model on test data is given below"
   ]
  },
  {
   "cell_type": "markdown",
   "metadata": {},
   "source": [
    "#### Getting prediction of the test data and then we will compare the true labels/classes of the data with predictions\n",
    "- As the model give probabilties so we are setting a threshold 0.5. More than 0.5 will be the positive tweets and lower will be negative tweets"
   ]
  },
  {
   "cell_type": "code",
   "execution_count": 48,
   "metadata": {
    "execution": {
     "iopub.execute_input": "2023-04-03T08:22:16.762381Z",
     "iopub.status.busy": "2023-04-03T08:22:16.761132Z",
     "iopub.status.idle": "2023-04-03T08:22:42.699811Z",
     "shell.execute_reply": "2023-04-03T08:22:42.698716Z",
     "shell.execute_reply.started": "2023-04-03T08:22:16.762330Z"
    }
   },
   "outputs": [],
   "source": [
    "y_pred = model.predict(X_test) #getting predictions on the trained model\n",
    "y_pred = (y_pred > 0.5) "
   ]
  },
  {
   "cell_type": "markdown",
   "metadata": {
    "id": "40MjbuBA7Og9"
   },
   "source": [
    "#### Confusion matrix\n",
    "- These are the evaluation measures to evaluate the performance of the model.\n",
    "- Dark blue boxes are the correct predictions with the trained model and sky blue boxes shows the wrong predictions.\n",
    "- 4610 tweets correctly predicted as negative sentiments. 1399 tweets predicted positive sentiments but that were actually negative sentiments.\n",
    "- 4247 tweets correctly predicted as postive sentiments. 1744 tweets predicted negative sentiments but that were actually positive sentiments."
   ]
  },
  {
   "cell_type": "code",
   "execution_count": 49,
   "metadata": {
    "execution": {
     "iopub.execute_input": "2023-04-03T08:22:42.701958Z",
     "iopub.status.busy": "2023-04-03T08:22:42.701316Z",
     "iopub.status.idle": "2023-04-03T08:22:43.004857Z",
     "shell.execute_reply": "2023-04-03T08:22:43.003346Z",
     "shell.execute_reply.started": "2023-04-03T08:22:42.701924Z"
    },
    "executionInfo": {
     "elapsed": 17851,
     "status": "ok",
     "timestamp": 1590596595973,
     "user": {
      "displayName": "Muhammad Imran Zaman",
      "photoUrl": "https://lh3.googleusercontent.com/a-/AOh14GjYO6GnhoI_aryKI-bhtIReU4wH4wLPGZdwWVtS=s64",
      "userId": "06817026978292405035"
     },
     "user_tz": -300
    },
    "id": "WERD7KXs8YmQ",
    "outputId": "db07021b-ec87-4be8-ce17-14cffe8749a6"
   },
   "outputs": [
    {
     "name": "stdout",
     "output_type": "stream",
     "text": [
      "\n",
      "\n",
      "confusion matrix\n",
      "\n",
      "\n",
      "[[4362 1647]\n",
      " [1398 4593]]\n",
      "\n",
      "\n"
     ]
    },
    {
     "data": {
      "image/png": "[encoded data removed]",
      "text/plain": [
       "<Figure size 720x720 with 2 Axes>"
      ]
     },
     "metadata": {
      "needs_background": "light"
     },
     "output_type": "display_data"
    }
   ],
   "source": [
    "print('\\n')\n",
    "print(\"confusion matrix\")\n",
    "print('\\n')\n",
    "CR=confusion_matrix(Y_test, y_pred)\n",
    "print(CR)\n",
    "print('\\n')\n",
    "\n",
    "fig, ax = plot_confusion_matrix(conf_mat=CR,figsize=(10, 10),\n",
    "                                show_absolute=True,\n",
    "                                show_normed=True,\n",
    "                                colorbar=True)\n",
    "plt.show()"
   ]
  },
  {
   "cell_type": "markdown",
   "metadata": {
    "id": "wlWpCx_OXEIq"
   },
   "source": [
    "# ROC CURVE\n",
    "- ROC curve show the performance of the model as well. \n",
    "- We can see that the model started from the 0 percent predictions and then moved to true positive predictions that are correct\n",
    "- ROC curve (receiver operating characteristic curve) show the performance of a classification model at all the classification thresholds. ROC plots two parameters, True Positive Rate (correct predictions/classifications) False Positive Rate (wrong predictions/classifications)"
   ]
  },
  {
   "cell_type": "code",
   "execution_count": 50,
   "metadata": {
    "execution": {
     "iopub.execute_input": "2023-04-03T08:22:43.007230Z",
     "iopub.status.busy": "2023-04-03T08:22:43.006745Z",
     "iopub.status.idle": "2023-04-03T08:22:43.179625Z",
     "shell.execute_reply": "2023-04-03T08:22:43.178430Z",
     "shell.execute_reply.started": "2023-04-03T08:22:43.007147Z"
    },
    "executionInfo": {
     "elapsed": 1346,
     "status": "ok",
     "timestamp": 1589235307230,
     "user": {
      "displayName": "Uğur Mertoğlu",
      "photoUrl": "",
      "userId": "13630859382453662878"
     },
     "user_tz": -180
    },
    "id": "uypTDMUZXEIq",
    "outputId": "f18a045e-3bbc-4b9b-afbf-29db50e9cbfd",
    "scrolled": true
   },
   "outputs": [
    {
     "data": {
      "image/png": "[encoded data removed]",
      "text/plain": [
       "<Figure size 432x288 with 1 Axes>"
      ]
     },
     "metadata": {
      "needs_background": "light"
     },
     "output_type": "display_data"
    }
   ],
   "source": [
    "fpr, tpr, thresholds = roc_curve(Y_test, y_pred)\n",
    "roc_auc = auc(fpr, tpr)\n",
    "plt.figure()\n",
    "plt.plot(fpr, tpr, color='darkorange', lw=1, label='ROC curve (area = %0.2f)' % roc_auc)\n",
    "plt.xlim([0.0, 1.0])\n",
    "plt.ylim([0.0, 1.05])\n",
    "plt.xlabel('False Positive Rate')\n",
    "plt.ylabel('True Positive Rate')\n",
    "plt.title('ROC CURVE')\n",
    "plt.legend(loc=\"lower right\")\n",
    "plt.show()"
   ]
  }
 ],
 "metadata": {
  "kernelspec": {
   "display_name": "Python 3 (ipykernel)",
   "language": "python",
   "name": "python3"
  },
  "language_info": {
   "codemirror_mode": {
    "name": "ipython",
    "version": 3
   },
   "file_extension": ".py",
   "mimetype": "text/x-python",
   "name": "python",
   "nbconvert_exporter": "python",
   "pygments_lexer": "ipython3",
   "version": "3.11.5"
  }
 },
 "nbformat": 4,
 "nbformat_minor": 4
}
